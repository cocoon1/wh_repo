{
 "cells": [
  {
   "cell_type": "markdown",
   "metadata": {},
   "source": [
    "# <center> 文件读写</center>\n",
    "## 1 文本文件（.txt）读写\n",
    "## 2 CSV文件读写\n",
    "## 3 EXCEL文件读写"
   ]
  },
  {
   "cell_type": "markdown",
   "metadata": {},
   "source": [
    "## <center>1文本文件（.txt）读写</center>\n",
    "### 第一步：（以只读模式）打开文件\n",
    "### f = open('song.txt', 'r', encoding='utf-8')\n",
    "\n",
    "### 第二步：读取文件内容,或者写文件内容\n",
    "### f.read()或者f.write(string)\n",
    "\n",
    "### 第三步：关闭文件\n",
    "### f.close()\n",
    "\n",
    "\n",
    "\n",
    "\n",
    "### <center  style=\"font-family:'宋体';font-size:30px\">文件对象的属性</center>\n",
    "<center>\n",
    "<table style=\"font-family:'Times New Roman';font-size:20px\">\n",
    "   <tr>\n",
    "      <td>file.closed</td>\n",
    "      <td>返回True，如果文件已经关闭，否则返回false</td>\n",
    "        \n",
    "   <tr>\n",
    "      <td>file.mode</td>\n",
    "      <td>返回被打开文件的访问模式</td>\n",
    "     \n",
    "   </tr>\n",
    "   <tr>\n",
    "      <td>file.name</td>\n",
    "      <td>返回文件的名称</td>\n",
    "     \n",
    "      \n",
    "   </tr>\n",
    "</table>\n",
    "</center>\n",
    "\n",
    "\n",
    "  \n",
    "</table>\n",
    "</center>\n",
    "\n"
   ]
  },
  {
   "cell_type": "code",
   "execution_count": 5,
   "metadata": {
    "collapsed": false
   },
   "outputs": [
    {
     "name": "stdout",
     "output_type": "stream",
     "text": [
      "文件名:  foo.txt\n",
      "是否已关闭 :  False\n",
      "访问模式 :  w\n"
     ]
    }
   ],
   "source": [
    "# 打开一个文件，若没有，则创建一个文件\n",
    "fo = open(\"foo.txt\", \"w\")\n",
    "print (\"文件名: \", fo.name)\n",
    "print (\"是否已关闭 : \", fo.closed)\n",
    "print (\"访问模式 : \", fo.mode)"
   ]
  },
  {
   "cell_type": "code",
   "execution_count": 6,
   "metadata": {
    "collapsed": false
   },
   "outputs": [],
   "source": [
    "# 对文件进行写操作\n",
    "fo.write( \"python.\\nVery good language!\\n\")#写入字符串\n",
    " # 关闭打开的文件\n",
    "fo.close()"
   ]
  },
  {
   "cell_type": "code",
   "execution_count": 8,
   "metadata": {
    "collapsed": false
   },
   "outputs": [
    {
     "name": "stdout",
     "output_type": "stream",
     "text": [
      "读取的字符串是 :  python.\n",
      "Very good language!\n",
      "\n"
     ]
    }
   ],
   "source": [
    "fo = open(\"foo.txt\", \"r\")\n",
    "str1 = fo.read(100)    #从开始读取十个字符\n",
    "print(\"读取的字符串是 : \", str1)\n",
    "# 关闭打开的文件\n",
    "fo.close()"
   ]
  },
  {
   "cell_type": "code",
   "execution_count": 9,
   "metadata": {
    "collapsed": false
   },
   "outputs": [
    {
     "name": "stdout",
     "output_type": "stream",
     "text": [
      "读取的字符串是 :  python.\n",
      "Very good language!\n",
      "\n"
     ]
    }
   ],
   "source": [
    "fo = open(\"foo.txt\", \"r\")\n",
    "str = fo.read()\n",
    "print(\"读取的字符串是 : \", str)\n",
    "# 关闭打开的文件\n",
    "fo.close()"
   ]
  },
  {
   "cell_type": "code",
   "execution_count": 11,
   "metadata": {
    "collapsed": false
   },
   "outputs": [
    {
     "name": "stdout",
     "output_type": "stream",
     "text": [
      "python.\n",
      "Very good language!\n"
     ]
    }
   ],
   "source": [
    "fo = open(\"foo.txt\", \"r\")\n",
    "for row in fo:\n",
    "    print(row,end=\"\")\n",
    "fo.close()"
   ]
  },
  {
   "cell_type": "markdown",
   "metadata": {},
   "source": [
    "### 文件定位\n",
    "\n",
    "+ tell()方法告诉你文件内的当前位置, 换句话说，下一次的读写会发生在文件开头这么多字节之后。 \n",
    "+ seek（offset [,from]）方法改变当前文件的位置。Offset变量表示要移动的字节数。From变量指定开始移动字节的参考位置。 \n",
    "     + 如果from被设为0，这意味着将文件的开头作为移动字节的参考位置(默认值)。如果设为1，则使用当前的位置作为参考位置。如果它被设为2，那么该文件的末尾将作为参考位置"
   ]
  },
  {
   "cell_type": "code",
   "execution_count": 12,
   "metadata": {
    "collapsed": false
   },
   "outputs": [
    {
     "name": "stdout",
     "output_type": "stream",
     "text": [
      "读取的字符串是 :  python.\n",
      "Ve\n",
      "当前文件位置 :  11\n",
      "重新读取字符串 :  on.\n",
      "Very g\n"
     ]
    }
   ],
   "source": [
    "#文件定位\n",
    "fo = open(\"foo.txt\", \"r\")\n",
    "str = fo.read(10)\n",
    "print(\"读取的字符串是 : \", str)\n",
    " \n",
    "# 查找当前位置\n",
    "position = fo.tell()\n",
    "print(\"当前文件位置 : \", position)\n",
    "# 把指针再次重新定位到文件开头\n",
    "position = fo.seek(4,0)   #fo.seek(4,1)\n",
    "str = fo.read(10)\n",
    "print(\"重新读取字符串 : \", str)\n",
    "# 关闭打开的文件\n",
    "fo.close()"
   ]
  },
  {
   "cell_type": "code",
   "execution_count": 13,
   "metadata": {
    "collapsed": false
   },
   "outputs": [
    {
     "name": "stdout",
     "output_type": "stream",
     "text": [
      "python.\n",
      "Very_good_language!\n"
     ]
    }
   ],
   "source": [
    "fo=open(\"foo.txt\",\"r\")\n",
    "for row in fo:\n",
    "    print(row.strip().replace(\" \",\"_\"))\n",
    "fo.close()"
   ]
  },
  {
   "cell_type": "code",
   "execution_count": 15,
   "metadata": {
    "collapsed": false
   },
   "outputs": [
    {
     "name": "stdout",
     "output_type": "stream",
     "text": [
      "python.\n",
      "Very good language!\n",
      "\n"
     ]
    }
   ],
   "source": [
    "fo=open(\"foo.txt\",\"r\")\n",
    "print(fo.read())"
   ]
  },
  {
   "cell_type": "markdown",
   "metadata": {},
   "source": [
    "### 另一种打开方式"
   ]
  },
  {
   "cell_type": "code",
   "execution_count": 16,
   "metadata": {
    "collapsed": false
   },
   "outputs": [
    {
     "name": "stdout",
     "output_type": "stream",
     "text": [
      "python.\n",
      "\n",
      "Very good language!\n",
      "\n",
      "30\n"
     ]
    }
   ],
   "source": [
    "with open(\"foo.txt\",\"r\") as fo:\n",
    "    for row in fo:\n",
    "        print(row)\n",
    "    print(fo.tell())"
   ]
  },
  {
   "cell_type": "code",
   "execution_count": 17,
   "metadata": {
    "collapsed": false
   },
   "outputs": [
    {
     "data": {
      "text/plain": [
       "True"
      ]
     },
     "execution_count": 17,
     "metadata": {},
     "output_type": "execute_result"
    }
   ],
   "source": [
    "fo.closed"
   ]
  },
  {
   "cell_type": "code",
   "execution_count": 18,
   "metadata": {
    "collapsed": false
   },
   "outputs": [],
   "source": [
    "with open(\"foo2.txt\",\"w\") as fo2:\n",
    "    with open(\"foo.txt\",\"r\") as fo:\n",
    "        for row in fo:\n",
    "            fo2.write(row)"
   ]
  },
  {
   "cell_type": "code",
   "execution_count": 19,
   "metadata": {
    "collapsed": false
   },
   "outputs": [
    {
     "name": "stdout",
     "output_type": "stream",
     "text": [
      "python.\n",
      "Very good language!\n",
      "\n"
     ]
    }
   ],
   "source": [
    "with open(\"foo2.txt\",\"r\") as fo2:\n",
    "    print(fo2.read())"
   ]
  },
  {
   "cell_type": "code",
   "execution_count": 20,
   "metadata": {
    "collapsed": false
   },
   "outputs": [],
   "source": [
    "#追加\n",
    "with open(\"foo2.txt\",\"a\") as fo2:\n",
    "    with open(\"foo.txt\",\"r\") as fo:\n",
    "        for row in fo:\n",
    "            fo2.write(row)"
   ]
  },
  {
   "cell_type": "code",
   "execution_count": 21,
   "metadata": {
    "collapsed": false
   },
   "outputs": [
    {
     "name": "stdout",
     "output_type": "stream",
     "text": [
      "python.\n",
      "Very good language!\n",
      "python.\n",
      "Very good language!\n",
      "\n"
     ]
    }
   ],
   "source": [
    "with open(\"foo2.txt\",\"r\") as fo2:\n",
    "    print(fo2.read())"
   ]
  },
  {
   "cell_type": "code",
   "execution_count": 22,
   "metadata": {
    "collapsed": false
   },
   "outputs": [
    {
     "name": "stdout",
     "output_type": "stream",
     "text": [
      "finish\n"
     ]
    }
   ],
   "source": [
    "my_letters=['a','b','c','d','e','f','g','h','i','j']\n",
    "max_index=len(my_letters)\n",
    "with open(\"output.txt\",\"w\") as output:\n",
    "    for index in range(max_index):\n",
    "        if index<max_index-1:\n",
    "            output.write(my_letters[index]+\"\\t\")\n",
    "        else:\n",
    "            output.write(my_letters[index]+\"\\n\")\n",
    "print(\"finish\")"
   ]
  },
  {
   "cell_type": "code",
   "execution_count": 23,
   "metadata": {
    "collapsed": false
   },
   "outputs": [
    {
     "name": "stdout",
     "output_type": "stream",
     "text": [
      "a\tb\tc\td\te\tf\tg\th\ti\tj\n",
      "\n"
     ]
    }
   ],
   "source": [
    "with open(\"output.txt\",\"r\") as output:\n",
    "    print(output.read())"
   ]
  },
  {
   "cell_type": "markdown",
   "metadata": {},
   "source": [
    "### 重命名和删除文件"
   ]
  },
  {
   "cell_type": "code",
   "execution_count": 24,
   "metadata": {
    "collapsed": false
   },
   "outputs": [],
   "source": [
    "import os\n",
    " # 重命名文件test1.txt到test2.txt。\n",
    "os.rename( \"foo.txt\", \"test2.txt\" )   "
   ]
  },
  {
   "cell_type": "code",
   "execution_count": null,
   "metadata": {
    "collapsed": true
   },
   "outputs": [],
   "source": [
    "#删除文件\n",
    "os.remove(\"test2.txt\")  "
   ]
  },
  {
   "cell_type": "code",
   "execution_count": null,
   "metadata": {
    "collapsed": true
   },
   "outputs": [],
   "source": [
    "# 创建目录test\n",
    "os.mkdir(\"test\")"
   ]
  },
  {
   "cell_type": "markdown",
   "metadata": {},
   "source": [
    "### 打开多个文本文件"
   ]
  },
  {
   "cell_type": "code",
   "execution_count": 25,
   "metadata": {
    "collapsed": false
   },
   "outputs": [
    {
     "name": "stdout",
     "output_type": "stream",
     "text": [
      "python.\n",
      "Very good language!\n",
      "python.\n",
      "Very good language!\n",
      "a\tb\tc\td\te\tf\tg\th\ti\tj\n",
      "python.\n",
      "Very good language!\n"
     ]
    }
   ],
   "source": [
    "import glob\n",
    "import os\n",
    "inputpath=%pwd\n",
    "for input_file in glob.glob(os.path.join(inputpath,\"*.txt\")):\n",
    "    with open(input_file,\"r\") as filereader:\n",
    "        for row in filereader:\n",
    "            print(row.strip())"
   ]
  },
  {
   "cell_type": "code",
   "execution_count": 26,
   "metadata": {
    "collapsed": false
   },
   "outputs": [
    {
     "data": {
      "text/plain": [
       "['C:\\\\Users\\\\lenovo\\\\data mining tools\\\\foo2.txt',\n",
       " 'C:\\\\Users\\\\lenovo\\\\data mining tools\\\\output.txt',\n",
       " 'C:\\\\Users\\\\lenovo\\\\data mining tools\\\\test2.txt']"
      ]
     },
     "execution_count": 26,
     "metadata": {},
     "output_type": "execute_result"
    }
   ],
   "source": [
    "glob.glob(os.path.join(inputpath,\"*.txt\"))"
   ]
  },
  {
   "cell_type": "markdown",
   "metadata": {},
   "source": [
    "## <center>2 CSV文件读写</center>\n",
    "### 一般有两次方式，一种借助CSV模块，一种借助pandas模块"
   ]
  },
  {
   "cell_type": "code",
   "execution_count": 27,
   "metadata": {
    "collapsed": false
   },
   "outputs": [],
   "source": [
    "import csv\n",
    "\n",
    "#将要存储的数据\n",
    "DATA = [(11 ,'12' ,'32——1'),(21, '22', '22——1, 22——2'),(31, '32', '32——1, 32——2,')]\n",
    "\"\"\"csv模块会将所有要写入的对象转化为字符串再写入。若转化后的字符串中\n",
    "不包含分割符（默认逗号）,则写入文件中字符串不包含\"\",若转化后的字符串中\n",
    "包含分割符（默认逗号），则写入文件中字符串包含\"\".\"\"\"\n",
    "#将数据写到csv\n",
    "f = open('test.csv', 'w',newline='')   #newline=''定义文档换行符\n",
    "writer = csv.writer(f)  #获取输出数据流\n",
    "for record in DATA:   #遍历tuple\n",
    "    writer.writerow(record)  #按行写入文件,写完一行就会添加一个newline换行符。\n",
    "f.close()"
   ]
  },
  {
   "cell_type": "code",
   "execution_count": 28,
   "metadata": {
    "collapsed": false
   },
   "outputs": [
    {
     "name": "stdout",
     "output_type": "stream",
     "text": [
      "['11', '12', '32——1']\n",
      "['21', '22', '22——1, 22——2']\n",
      "['31', '32', '32——1, 32——2,']\n"
     ]
    }
   ],
   "source": [
    "f = open('test.csv', 'r',newline='')\n",
    "reader=csv.reader(f)\n",
    "for row in reader:\n",
    "    print(row)\n",
    "f.close()"
   ]
  },
  {
   "cell_type": "code",
   "execution_count": 29,
   "metadata": {
    "collapsed": false
   },
   "outputs": [
    {
     "name": "stdout",
     "output_type": "stream",
     "text": [
      "['Supplier Name', 'Invoice Number', 'Part Number', 'Cost', 'Purchase Date']\n",
      "['Supplier X', '001-1001', '2341', '$500.00 ', '1/20/14']\n",
      "['Supplier X', '001-1001', '2341', '$500.00 ', '1/20/14']\n",
      "['Supplier X', '001-1001', '5467', '$750.00 ', '1/20/14']\n",
      "['Supplier X', '001-1001', '5467', '$750.00 ', '1/20/14']\n",
      "['Supplier Y', '50-9501', '7009', '$250.00 ', '1/30/14']\n",
      "['Supplier Y', '50-9501', '7009', '$250.00 ', '1/30/14']\n",
      "['Supplier Y', '50-9505', '6650', '$125.00 ', '2/3/14']\n",
      "['Supplier Y', '50-9505', '6650', '$125.00 ', '2/3/14']\n",
      "['Supplier Z', '920-4803', '3321', '$615.00 ', '2/3/14']\n",
      "['Supplier Z', '920-4804', '3321', '$615.00 ', '2/10/14']\n",
      "['Supplier Z', '920-4805', '3321', '$615.00 ', '2/17/14']\n",
      "['Supplier Z', '920-4806', '3321', '$615.00 ', '2/24/14']\n"
     ]
    }
   ],
   "source": [
    "import csv\n",
    "with open(\"supplier_data.csv\",\"r\",newline=\"\") as csv_in_file:\n",
    "    with open(\"output.csv\",\"w\",newline=\"\") as csv_out_file:\n",
    "        filereader=csv.reader(csv_in_file,delimiter=\",\")    #分隔符\n",
    "        filewriter=csv.writer(csv_out_file,delimiter=\",\")\n",
    "        for row in filereader:\n",
    "            print(row)\n",
    "            filewriter.writerow(row)"
   ]
  },
  {
   "cell_type": "markdown",
   "metadata": {
    "collapsed": true
   },
   "source": [
    "## <center>3 EXCEL文件读写</center>\n",
    "+ 读EXCEL文件:使用xlwt module将数据写入Excel表格，使用xlrd module从Excel读取数据。\n",
    "    +  导入模块  import xlrd\n",
    "    +  打开Excel文件读取数据  data = xlrd.open_workbook('excel.xls')\n",
    "    +  获取一个工作表\n",
    "          +  table = data.sheets()[0]          #通过索引顺序获取\n",
    "          +  table = data.sheet_by_index(0) #通过索引顺序获取\n",
    "          +  table = data.sheet_by_name(u'Sheet1')#通过名称获取\n",
    "    + 获取整行和整列的值（返回数组）\n",
    "          + table.row_values(i)\n",
    "          + table.col_values(i)\n",
    "    + 获取行数和列数　\n",
    "          + table.nrows\n",
    "          + table.ncols\n",
    "    + 获取单元格\n",
    "          + table.cell(0,0).value\n",
    "          + table.cell(2,3).value \n",
    "\n"
   ]
  },
  {
   "cell_type": "code",
   "execution_count": null,
   "metadata": {
    "collapsed": false
   },
   "outputs": [],
   "source": [
    "import xlrd\n",
    "workbook = xlrd.open_workbook(\"sales_2014.xlsx\")\n",
    "worksheet= workbook.sheets()[0]\n",
    "print(worksheet.row_values(0))\n",
    "print(worksheet.cell(0,0).value)"
   ]
  },
  {
   "cell_type": "markdown",
   "metadata": {
    "collapsed": true
   },
   "source": [
    "+  写EXCEL文件\n",
    "   +  导入模块      import xlwt\n",
    "   +  创建workbook    workbook = xlwt.Workbook(encoding = 'ascii')\n",
    "   +  创建表      worksheet = workbook.add_sheet('My Worksheet')\n",
    "   +  往单元格内写入内容  worksheet.write(0, 0, label = 'Row 0, Column 0 Value')\n",
    "   +  保存    workbook.save('Excel_Workbook.xls')\n",
    "\n",
    "\n",
    "\n",
    "\n",
    "\n",
    "\n",
    "\n"
   ]
  },
  {
   "cell_type": "code",
   "execution_count": null,
   "metadata": {
    "collapsed": false
   },
   "outputs": [],
   "source": [
    "import xlwt\n",
    "workbook = xlwt.Workbook()\n",
    "worksheet = workbook.add_sheet('My Worksheet')\n",
    "worksheet.write(0, 0, label = 'Row 0, Column 0 Value')\n",
    "workbook.save('Excel_Workbook.xls')\n"
   ]
  }
 ],
 "metadata": {
  "kernelspec": {
   "display_name": "Python 3",
   "language": "python",
   "name": "python3"
  },
  "language_info": {
   "codemirror_mode": {
    "name": "ipython",
    "version": 3
   },
   "file_extension": ".py",
   "mimetype": "text/x-python",
   "name": "python",
   "nbconvert_exporter": "python",
   "pygments_lexer": "ipython3",
   "version": "3.6.0"
  }
 },
 "nbformat": 4,
 "nbformat_minor": 2
}
